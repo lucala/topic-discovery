{
 "cells": [
  {
   "cell_type": "code",
   "execution_count": 1,
   "metadata": {},
   "outputs": [],
   "source": [
    "from sklearn.datasets import fetch_20newsgroups\n",
    "from sklearn.feature_extraction.text import TfidfVectorizer, CountVectorizer\n",
    "from sklearn.decomposition import NMF, LatentDirichletAllocation\n",
    "import numpy as np\n",
    "\n",
    "# load the dataset\n",
    "newsgroups = fetch_20newsgroups(shuffle=True, remove=('headers', 'footers', 'quotes'))\n",
    "true_topics = newsgroups.target_names\n",
    "\n",
    "# 20 topics in this dataset\n",
    "nr_topics = 20"
   ]
  },
  {
   "cell_type": "code",
   "execution_count": 2,
   "metadata": {},
   "outputs": [
    {
     "name": "stdout",
     "output_type": "stream",
     "text": [
      "(11314, 39115)\n"
     ]
    }
   ],
   "source": [
    "# only use words that appear less than 95% and at least 3 times in a document. remove all stop words.\n",
    "vectorizer = TfidfVectorizer(max_df=0.95, min_df=2, stop_words='english')\n",
    "vectors = vectorizer.fit_transform(newsgroups.data)\n",
    "feature_names = np.array(vectorizer.get_feature_names())\n",
    "\n",
    "# matrix containing documents in rows and words in columns\n",
    "print(vectors.shape)"
   ]
  },
  {
   "cell_type": "code",
   "execution_count": 3,
   "metadata": {},
   "outputs": [],
   "source": [
    "# define non-negative matrix factorization\n",
    "nmf = NMF(n_components=nr_topics, init='nndsvd', max_iter=300)"
   ]
  },
  {
   "cell_type": "code",
   "execution_count": 4,
   "metadata": {},
   "outputs": [
    {
     "name": "stdout",
     "output_type": "stream",
     "text": [
      "184\n",
      "102.52151111971088\n"
     ]
    }
   ],
   "source": [
    "# factorize X into W*H using NMF\n",
    "W = nmf.fit_transform(vectors)\n",
    "H = nmf.components_\n",
    "\n",
    "# iterations needed\n",
    "print(nmf.n_iter_)\n",
    "# reconstruction error\n",
    "print(nmf.reconstruction_err_)"
   ]
  },
  {
   "cell_type": "code",
   "execution_count": 5,
   "metadata": {},
   "outputs": [
    {
     "name": "stdout",
     "output_type": "stream",
     "text": [
      "(topics, words): (20, 39115)\n",
      "\n",
      "Top 3 words for each topic:\n",
      "Topic 0: like, don, just\n",
      "Topic 1: dos, file, windows\n",
      "Topic 2: bible, jesus, god\n",
      "Topic 3: chastity, dsl, geb\n",
      "Topic 4: encryption, chip, key\n",
      "Topic 5: hard, disk, drive\n",
      "Topic 6: 10, sale, 00\n",
      "Topic 7: advance, mail, thanks\n",
      "Topic 8: gun, government, people\n",
      "Topic 9: monitor, video, card\n",
      "Topic 10: games, team, game\n",
      "Topic 11: cars, bike, car\n",
      "Topic 12: application, motif, window\n",
      "Topic 13: shuttle, nasa, space\n",
      "Topic 14: anybody, know, does\n",
      "Topic 15: jews, israeli, israel\n",
      "Topic 16: turkish, armenians, armenian\n",
      "Topic 17: controller, ide, scsi\n",
      "Topic 18: ftp, com, edu\n",
      "Topic 19: mac, software, use\n"
     ]
    }
   ],
   "source": [
    "# nr of words per topic\n",
    "nr_words = 3\n",
    "\n",
    "print(\"(topics, words): \" + str(H.shape) + \"\\n\")\n",
    "\n",
    "print(\"Top \" + str(nr_words) + \" words for each topic:\")\n",
    "\n",
    "for id_topic, topic in enumerate(H):\n",
    "    sorted_topic = topic.argsort()\n",
    "    important_words = sorted_topic[-nr_words:]\n",
    "    print(\"Topic \" + str(id_topic) + \": \" + ', '.join(feature_names[important_words]))"
   ]
  },
  {
   "cell_type": "code",
   "execution_count": 6,
   "metadata": {},
   "outputs": [
    {
     "name": "stdout",
     "output_type": "stream",
     "text": [
      "True topics:\n",
      "\n",
      "alt.atheism\n",
      "comp.graphics\n",
      "comp.os.ms-windows.misc\n",
      "comp.sys.ibm.pc.hardware\n",
      "comp.sys.mac.hardware\n",
      "comp.windows.x\n",
      "misc.forsale\n",
      "rec.autos\n",
      "rec.motorcycles\n",
      "rec.sport.baseball\n",
      "rec.sport.hockey\n",
      "sci.crypt\n",
      "sci.electronics\n",
      "sci.med\n",
      "sci.space\n",
      "soc.religion.christian\n",
      "talk.politics.guns\n",
      "talk.politics.mideast\n",
      "talk.politics.misc\n",
      "talk.religion.misc\n"
     ]
    }
   ],
   "source": [
    "print(\"True topics:\\n\")\n",
    "\n",
    "for i in range(len(true_topics)):\n",
    "    print(true_topics[i])"
   ]
  },
  {
   "cell_type": "code",
   "execution_count": 7,
   "metadata": {},
   "outputs": [
    {
     "name": "stdout",
     "output_type": "stream",
     "text": [
      "(11314, 20)\n"
     ]
    }
   ],
   "source": [
    "print(W.shape)"
   ]
  },
  {
   "cell_type": "code",
   "execution_count": 8,
   "metadata": {},
   "outputs": [
    {
     "name": "stdout",
     "output_type": "stream",
     "text": [
      "Article 0 is predicted to belong to topic: 11\n"
     ]
    }
   ],
   "source": [
    "art = 0\n",
    "print(\"Article \" + str(art) + \" is predicted to belong to topic: \" + str(np.argmax(W[art])))"
   ]
  },
  {
   "cell_type": "code",
   "execution_count": 9,
   "metadata": {},
   "outputs": [
    {
     "data": {
      "text/plain": [
       "'C:\\\\Users\\\\lanze\\\\scikit_learn_data\\\\20news_home\\\\20news-bydate-train\\\\rec.autos\\\\102994'"
      ]
     },
     "execution_count": 9,
     "metadata": {},
     "output_type": "execute_result"
    }
   ],
   "source": [
    "newsgroups.filenames[art]"
   ]
  }
 ],
 "metadata": {
  "kernelspec": {
   "display_name": "Python 3",
   "language": "python",
   "name": "python3"
  },
  "language_info": {
   "codemirror_mode": {
    "name": "ipython",
    "version": 3
   },
   "file_extension": ".py",
   "mimetype": "text/x-python",
   "name": "python",
   "nbconvert_exporter": "python",
   "pygments_lexer": "ipython3",
   "version": "3.6.5"
  }
 },
 "nbformat": 4,
 "nbformat_minor": 2
}
